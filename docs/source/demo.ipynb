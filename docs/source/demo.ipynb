{
 "cells": [
  {
   "cell_type": "markdown",
   "id": "4fb9ba96-72ae-4da8-8cae-786324f9b60c",
   "metadata": {},
   "source": [
    "## Jupyter Demo"
   ]
  },
  {
   "cell_type": "code",
   "execution_count": 1,
   "id": "e9c3a881-f0f7-4225-bcbd-eb4477730ff3",
   "metadata": {},
   "outputs": [],
   "source": [
    "import packagetest"
   ]
  },
  {
   "cell_type": "code",
   "execution_count": 2,
   "id": "ca521a21-ae2c-4622-96c3-82a636d7787a",
   "metadata": {},
   "outputs": [
    {
     "name": "stdout",
     "output_type": "stream",
     "text": [
      "I rendered Jupyter Notebook in Sphinx (0)\n",
      "I rendered Jupyter Notebook in Sphinx (1)\n",
      "I rendered Jupyter Notebook in Sphinx (2)\n",
      "I rendered Jupyter Notebook in Sphinx (3)\n",
      "I rendered Jupyter Notebook in Sphinx (4)\n"
     ]
    }
   ],
   "source": [
    "for uu in range(5):\n",
    "    print(f\"I rendered Jupyter Notebook in Sphinx ({uu})\")"
   ]
  }
 ],
 "metadata": {
  "kernelspec": {
   "display_name": "Python 3 (ipykernel)",
   "language": "python",
   "name": "python3"
  },
  "language_info": {
   "codemirror_mode": {
    "name": "ipython",
    "version": 3
   },
   "file_extension": ".py",
   "mimetype": "text/x-python",
   "name": "python",
   "nbconvert_exporter": "python",
   "pygments_lexer": "ipython3",
   "version": "3.9.13"
  }
 },
 "nbformat": 4,
 "nbformat_minor": 5
}

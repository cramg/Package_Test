{
 "cells": [
  {
   "cell_type": "code",
   "execution_count": 7,
   "id": "eac55eb8-6652-46e0-aa74-c870245fc4a2",
   "metadata": {},
   "outputs": [],
   "source": [
    "from Mamiferos import Mamifero"
   ]
  },
  {
   "cell_type": "code",
   "execution_count": 12,
   "id": "3bd4cd52-f886-4ed6-8be1-8c8d208c77db",
   "metadata": {},
   "outputs": [
    {
     "data": {
      "text/plain": [
       "<function Mamiferos.Mamifero.listMam(self)>"
      ]
     },
     "execution_count": 12,
     "metadata": {},
     "output_type": "execute_result"
    }
   ],
   "source": [
    "Mamifero.listMam"
   ]
  },
  {
   "cell_type": "code",
   "execution_count": null,
   "id": "88f389ef-751d-4a0f-8187-bfe1bff840c1",
   "metadata": {},
   "outputs": [],
   "source": []
  }
 ],
 "metadata": {
  "kernelspec": {
   "display_name": "Python 3 (ipykernel)",
   "language": "python",
   "name": "python3"
  },
  "language_info": {
   "codemirror_mode": {
    "name": "ipython",
    "version": 3
   },
   "file_extension": ".py",
   "mimetype": "text/x-python",
   "name": "python",
   "nbconvert_exporter": "python",
   "pygments_lexer": "ipython3",
   "version": "3.9.13"
  }
 },
 "nbformat": 4,
 "nbformat_minor": 5
}
